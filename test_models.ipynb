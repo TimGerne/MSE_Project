{
 "cells": [
  {
   "cell_type": "code",
   "execution_count": 1,
   "id": "4e98a4b7",
   "metadata": {},
   "outputs": [
    {
     "name": "stderr",
     "output_type": "stream",
     "text": [
      "Exception ignored in: <bound method IPythonKernel._clean_thread_parent_frames of <ipykernel.ipkernel.IPythonKernel object at 0x7f01e7563f40>>\n",
      "Traceback (most recent call last):\n",
      "  File \"/home/jonathan/envs/MSE-env/lib/python3.8/site-packages/ipykernel/ipkernel.py\", line 775, in _clean_thread_parent_frames\n",
      "    def _clean_thread_parent_frames(\n",
      "KeyboardInterrupt: \n",
      "/home/jonathan/envs/MSE-env/lib/python3.8/site-packages/sentence_transformers/cross_encoder/CrossEncoder.py:13: TqdmExperimentalWarning: Using `tqdm.autonotebook.tqdm` in notebook mode. Use `tqdm.tqdm` instead to force console mode (e.g. in jupyter console)\n",
      "  from tqdm.autonotebook import tqdm, trange\n"
     ]
    }
   ],
   "source": [
    "import sys\n",
    "import os\n",
    "import pandas as pd\n",
    "#from index.load_index import load_index\n",
    "from models import BM25RetrievalModel, TFIDFRetrievalModel, DenseRetrievalModel, HybridRetrievalModel\n",
    "from evaluation import evaluate, tune_hybrid_alpha, plot_alpha_scores"
   ]
  },
  {
   "cell_type": "code",
   "execution_count": 2,
   "id": "c7c70707",
   "metadata": {},
   "outputs": [
    {
     "ename": "NameError",
     "evalue": "name 'load_index' is not defined",
     "output_type": "error",
     "traceback": [
      "\u001b[0;31m---------------------------------------------------------------------------\u001b[0m",
      "\u001b[0;31mNameError\u001b[0m                                 Traceback (most recent call last)",
      "Cell \u001b[0;32mIn[2], line 4\u001b[0m\n\u001b[1;32m      1\u001b[0m \u001b[38;5;66;03m# Load Indexed Documents\u001b[39;00m\n\u001b[1;32m      2\u001b[0m \u001b[38;5;66;03m#sys.path.append(\".\")   # Adjust depending on your layout\u001b[39;00m\n\u001b[1;32m      3\u001b[0m index_dir \u001b[38;5;241m=\u001b[39m \u001b[38;5;124m\"\u001b[39m\u001b[38;5;124mtuebingen_index\u001b[39m\u001b[38;5;124m\"\u001b[39m  \u001b[38;5;66;03m# Update if stored elsewhere\u001b[39;00m\n\u001b[0;32m----> 4\u001b[0m documents \u001b[38;5;241m=\u001b[39m \u001b[43mload_index\u001b[49m(index_dir)\n\u001b[1;32m      6\u001b[0m texts \u001b[38;5;241m=\u001b[39m [doc[\u001b[38;5;124m\"\u001b[39m\u001b[38;5;124mtext\u001b[39m\u001b[38;5;124m\"\u001b[39m] \u001b[38;5;28;01mfor\u001b[39;00m doc \u001b[38;5;129;01min\u001b[39;00m documents]\n\u001b[1;32m      7\u001b[0m urls \u001b[38;5;241m=\u001b[39m [doc[\u001b[38;5;124m\"\u001b[39m\u001b[38;5;124murl\u001b[39m\u001b[38;5;124m\"\u001b[39m] \u001b[38;5;28;01mfor\u001b[39;00m doc \u001b[38;5;129;01min\u001b[39;00m documents]\n",
      "\u001b[0;31mNameError\u001b[0m: name 'load_index' is not defined"
     ]
    }
   ],
   "source": [
    "# Load Indexed Documents\n",
    "#sys.path.append(\".\")   # Adjust depending on your layout\n",
    "index_dir = \"tuebingen_index\"  # Update if stored elsewhere\n",
    "documents = load_index(index_dir)\n",
    "\n",
    "texts = [doc[\"text\"] for doc in documents]\n",
    "urls = [doc[\"url\"] for doc in documents]\n",
    "\n",
    "print(f\"Loaded {len(texts)} documents from index.\")\n",
    "# Load Retrieval Models\n",
    "bm25_model = BM25RetrievalModel(texts, urls)\n",
    "tfidf_model = TFIDFRetrievalModel(texts, urls)\n",
    "dense_model = DenseRetrievalModel(texts, urls)\n",
    "hybrid_model = HybridRetrievalModel(bm25_model, dense_model, alpha=0.5)\n",
    "\n",
    "queries = [\n",
    "    \"tübingen attractions\",\n",
    "    \"food and drinks\",\n",
    "    \"university of tübingen history\",\n",
    "    \"student life\",\n",
    "    \"museums in tübingen\"\n",
    "]\n",
    "# Evaluate Models on Queries\n",
    "def display_results(model, model_name, query, top_n=5):\n",
    "    print(f\"\\n{model_name} Results for: \\\"{query}\\\"\")\n",
    "    results = model.retrieve(query, top_k=top_n)\n",
    "    for i, res in enumerate(results):\n",
    "        print(f\"{i+1}. {res['url']} (Score: {res['score']:.4f})\")\n",
    "        print(f\"   {res['snippet'][:200]}...\\n\")\n",
    "\n",
    "for query in queries:\n",
    "    display_results(bm25_model, \"BM25\", query)\n",
    "    display_results(tfidf_model, \"TF-IDF\", query)\n",
    "    display_results(dense_model, \"Dense Embedding\", query)\n",
    "    display_results(hybrid_model, \"Hybrid Model (BM25 + Dense)\", query)\n",
    "    \n",
    "# Compare Side-by-Side\n",
    "def get_result_df(model, query, top_n=5):\n",
    "    results = model.retrieve(query, top_k=top_n)\n",
    "    return pd.DataFrame([{\n",
    "        'Rank': i + 1,\n",
    "        'URL': res['url'],\n",
    "        'Score': res['score'],\n",
    "        'Snippet': res['snippet'][:150]\n",
    "    } for i, res in enumerate(results)])\n",
    "\n",
    "query_idx = 0  # Choose from 0 to len(queries)-1\n",
    "query = queries[query_idx]\n",
    "\n",
    "print(f\"\\n\\nSide-by-Side Result for Query: \\\"{query}\\\"\")\n",
    "bm25_df = get_result_df(bm25_model, query)\n",
    "tfidf_df = get_result_df(tfidf_model, query)\n",
    "dense_df = get_result_df(dense_model, query)\n",
    "hybrid_df = get_result_df(hybrid_model, query)\n",
    "\n",
    "print(\"\\nBM25 Top Results:\")\n",
    "display(bm25_df)\n",
    "\n",
    "print(\"\\nTF-IDF Top Results:\")\n",
    "display(tfidf_df)\n",
    "\n",
    "print(\"\\nDense Embedding Top Results:\")\n",
    "display(dense_df)\n",
    "\n",
    "print(\"\\nHybrid Model Top Results:\")\n",
    "display(hybrid_df)"
   ]
  },
  {
   "cell_type": "code",
   "execution_count": null,
   "id": "8acb8914",
   "metadata": {},
   "outputs": [],
   "source": [
    "print(\"BM25 Evaluation:\")\n",
    "print(evaluate(bm25_model, 'queries.txt', 'qrels.txt', k=10))\n",
    "\n",
    "print(\"Dense Evaluation:\")\n",
    "print(evaluate(dense_model, 'queries.txt', 'qrels.txt', k=10))\n",
    "\n",
    "print(\"Hybrid Evaluation:\")\n",
    "print(evaluate(hybrid_model, 'queries.txt', 'qrels.txt', k=10))"
   ]
  },
  {
   "cell_type": "code",
   "execution_count": 3,
   "id": "0c21a68b",
   "metadata": {},
   "outputs": [
    {
     "ename": "NameError",
     "evalue": "name 'bm25_model' is not defined",
     "output_type": "error",
     "traceback": [
      "\u001b[0;31m---------------------------------------------------------------------------\u001b[0m",
      "\u001b[0;31mNameError\u001b[0m                                 Traceback (most recent call last)",
      "Cell \u001b[0;32mIn[3], line 2\u001b[0m\n\u001b[1;32m      1\u001b[0m best_alpha, scores \u001b[38;5;241m=\u001b[39m tune_hybrid_alpha(\n\u001b[0;32m----> 2\u001b[0m     \u001b[43mbm25_model\u001b[49m,\n\u001b[1;32m      3\u001b[0m     dense_model,\n\u001b[1;32m      4\u001b[0m     queries_path\u001b[38;5;241m=\u001b[39m\u001b[38;5;124m'\u001b[39m\u001b[38;5;124mqueries.txt\u001b[39m\u001b[38;5;124m'\u001b[39m,\n\u001b[1;32m      5\u001b[0m     qrels_path\u001b[38;5;241m=\u001b[39m\u001b[38;5;124m'\u001b[39m\u001b[38;5;124mqrels.txt\u001b[39m\u001b[38;5;124m'\u001b[39m,\n\u001b[1;32m      6\u001b[0m     k\u001b[38;5;241m=\u001b[39m\u001b[38;5;241m10\u001b[39m\n\u001b[1;32m      7\u001b[0m )\n\u001b[1;32m      8\u001b[0m plot_alpha_scores(scores)\n",
      "\u001b[0;31mNameError\u001b[0m: name 'bm25_model' is not defined"
     ]
    }
   ],
   "source": [
    "best_alpha, scores = tune_hybrid_alpha(\n",
    "    bm25_model,\n",
    "    dense_model,\n",
    "    queries_path='queries.txt',\n",
    "    qrels_path='qrels.txt',\n",
    "    k=10\n",
    ")\n",
    "plot_alpha_scores(scores)"
   ]
  }
 ],
 "metadata": {
  "kernelspec": {
   "display_name": "MSE-env",
   "language": "python",
   "name": "python3"
  },
  "language_info": {
   "codemirror_mode": {
    "name": "ipython",
    "version": 3
   },
   "file_extension": ".py",
   "mimetype": "text/x-python",
   "name": "python",
   "nbconvert_exporter": "python",
   "pygments_lexer": "ipython3",
   "version": "3.8.10"
  }
 },
 "nbformat": 4,
 "nbformat_minor": 5
}
